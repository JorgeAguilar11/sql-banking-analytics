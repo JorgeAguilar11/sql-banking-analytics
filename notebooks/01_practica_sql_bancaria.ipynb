{
 "cells": [
  {
   "cell_type": "markdown",
   "id": "7faf6409",
   "metadata": {},
   "source": [
    "# 🏦 Práctica SQL Bancaria - Sesión de Trabajo\n",
    "\n",
    "## 🎯 Objetivo: Practicar consultas SQL reales en datos bancarios\n",
    "\n",
    "### 📋 Plan de la sesión:\n",
    "1. **Conexión rápida** a la base de datos\n",
    "2. **Ejercicios prácticos** de consultas SQL\n",
    "3. **Corrección de errores** en tiempo real\n",
    "4. **Tips y mejores prácticas** bancarias\n",
    "\n",
    "---"
   ]
  },
  {
   "cell_type": "markdown",
   "id": "fad7a763",
   "metadata": {},
   "source": [
    "## 🔗 Conexión Rápida"
   ]
  },
  {
   "cell_type": "code",
   "execution_count": 1,
   "id": "aed4803c",
   "metadata": {},
   "outputs": [
    {
     "name": "stdout",
     "output_type": "stream",
     "text": [
      "✅ Conectado a la base de datos bancaria\n",
      "🏦 Tablas disponibles:\n",
      "   📋 clientes\n",
      "   📋 productos_financieros\n",
      "   📋 cuentas\n",
      "   📋 prestamos\n",
      "   📋 transacciones\n",
      "   📋 sucursales\n",
      "   📋 balance_general\n",
      "   📋 estado_resultados\n"
     ]
    }
   ],
   "source": [
    "# Conexión rápida a la base de datos\n",
    "import sqlite3\n",
    "import pandas as pd\n",
    "\n",
    "# Conectar a la base de datos bancaria\n",
    "conn = sqlite3.connect('../data/banking_core.db')\n",
    "print(\"✅ Conectado a la base de datos bancaria\")\n",
    "\n",
    "# Ver las tablas disponibles\n",
    "tablas = pd.read_sql_query(\"\"\"\n",
    "    SELECT name FROM sqlite_master \n",
    "    WHERE type='table' AND name NOT LIKE 'sqlite_%'\n",
    "\"\"\", conn)\n",
    "\n",
    "print(\"🏦 Tablas disponibles:\")\n",
    "for tabla in tablas['name']:\n",
    "    print(f\"   📋 {tabla}\")"
   ]
  },
  {
   "cell_type": "markdown",
   "id": "77c1fd6d",
   "metadata": {},
   "source": [
    "## 📊 Ejercicio 1: Consultas Básicas de Clientes\n",
    "\n",
    "**Objetivo:** Practicar SELECT, WHERE, ORDER BY\n",
    "\n",
    "### 🎯 Tu turno: Intenta escribir estas consultas"
   ]
  },
  {
   "cell_type": "code",
   "execution_count": 2,
   "id": "517fe684",
   "metadata": {},
   "outputs": [
    {
     "name": "stdout",
     "output_type": "stream",
     "text": [
      "📋 Estructura de la tabla clientes:\n",
      "              name          type\n",
      "        cliente_id       INTEGER\n",
      "    numero_cliente   VARCHAR(20)\n",
      "           nombres  VARCHAR(100)\n",
      "         apellidos  VARCHAR(100)\n",
      "    tipo_documento   VARCHAR(10)\n",
      "  numero_documento   VARCHAR(20)\n",
      "  fecha_nacimiento          DATE\n",
      "            genero    VARCHAR(1)\n",
      "      estado_civil   VARCHAR(20)\n",
      "          telefono   VARCHAR(20)\n",
      "             email  VARCHAR(100)\n",
      "         direccion          TEXT\n",
      "            ciudad   VARCHAR(50)\n",
      "      departamento   VARCHAR(50)\n",
      "     codigo_postal   VARCHAR(10)\n",
      "         ocupacion  VARCHAR(100)\n",
      "ingresos_mensuales DECIMAL(15,2)\n",
      "  segmento_cliente   VARCHAR(50)\n",
      " fecha_vinculacion          DATE\n",
      "            estado   VARCHAR(20)\n",
      "        created_at     TIMESTAMP\n",
      "        updated_at     TIMESTAMP\n",
      "\n",
      "==================================================\n",
      "✏️  Ahora intenta tus consultas aquí abajo:\n",
      "==================================================\n"
     ]
    }
   ],
   "source": [
    "# 🧪 ÁREA DE PRÁCTICA LIBRE\n",
    "# Escribe aquí tus consultas SQL y las revisamos juntos\n",
    "\n",
    "# Primero, veamos la estructura de la tabla clientes\n",
    "estructura = pd.read_sql_query(\"PRAGMA table_info(clientes)\", conn)\n",
    "print(\"📋 Estructura de la tabla clientes:\")\n",
    "print(estructura[['name', 'type']].to_string(index=False))\n",
    "\n",
    "print(\"\\n\" + \"=\"*50)\n",
    "print(\"✏️  Ahora intenta tus consultas aquí abajo:\")\n",
    "print(\"=\"*50)"
   ]
  },
  {
   "cell_type": "code",
   "execution_count": 6,
   "id": "322bc77e",
   "metadata": {},
   "outputs": [
    {
     "name": "stdout",
     "output_type": "stream",
     "text": [
      "✅ Consulta ejecutada correctamente:\n",
      "Empty DataFrame\n",
      "Columns: [nombre_completo]\n",
      "Index: []\n"
     ]
    }
   ],
   "source": [
    "# 🔧 ESCRIBE TU CONSULTA AQUÍ:\n",
    "# Ejemplo: Mostrar los primeros 5 clientes activos\n",
    "\n",
    "mi_consulta = \"\"\"\n",
    "-- Escribe tu consulta SQL aquí\n",
    "-- Objetivo: MOSTRA LOS PRIMEROS TRES CLIENTES\n",
    "    SELECT CONCAT(nombres, ' ', apellidos) AS nombre_completo\n",
    "        FROM clientes\n",
    "        WHERE estado = 'Activo';\n",
    "\"\"\"\n",
    "\n",
    "try:\n",
    "    resultado = pd.read_sql_query(mi_consulta, conn)\n",
    "    print(\"✅ Consulta ejecutada correctamente:\")\n",
    "    print(resultado)\n",
    "except Exception as e:\n",
    "    print(f\"❌ Error en la consulta: {e}\")\n",
    "    print(\"💡 No te preocupes, revisemos el error juntos\")"
   ]
  },
  {
   "cell_type": "markdown",
   "id": "b3671c74",
   "metadata": {},
   "source": [
    "## 💡 Tips SQL para Banca\n",
    "\n",
    "### ✅ Buenas Prácticas:\n",
    "1. **Siempre filtra por estado activo** cuando trabajas con clientes/cuentas\n",
    "2. **Usa CASE WHEN** para clasificar montos (positivos/negativos)\n",
    "3. **Maneja fechas cuidadosamente** - usa funciones como `date('now', '-30 days')`\n",
    "4. **Agrega límites** a tus consultas para evitar resultados masivos\n",
    "5. **Usa alias descriptivos** para las columnas calculadas\n",
    "\n",
    "### ⚠️ Errores Comunes:\n",
    "- Olvidar el `GROUP BY` cuando usas agregaciones\n",
    "- No filtrar registros inactivos\n",
    "- Confundir INNER JOIN con LEFT JOIN\n",
    "- No manejar valores NULL correctamente\n",
    "\n",
    "---\n",
    "\n",
    "### 🎯 **¡Comparte tus consultas con errores y las revisamos juntos!**"
   ]
  },
  {
   "cell_type": "markdown",
   "id": "20fb439a",
   "metadata": {},
   "source": [
    "## 📊 Ejercicio 1: Consultas Básicas de Clientes\n",
    "\n",
    "**Objetivo:** Practicar SELECT, WHERE, ORDER BY"
   ]
  },
  {
   "cell_type": "code",
   "execution_count": null,
   "id": "f60db5d7",
   "metadata": {},
   "outputs": [],
   "source": [
    "# EJERCICIO 1A: Mostrar los primeros 10 clientes activos\n",
    "# TODO: Escribe tu consulta aquí\n",
    "\n",
    "consulta_1a = \"\"\"\n",
    "-- Tu consulta aquí:\n",
    "-- Selecciona cliente_id, nombre_completo, segmento_cliente, fecha_vinculacion\n",
    "-- de la tabla clientes donde estado = 'ACTIVO'\n",
    "-- Ordena por fecha_vinculacion más reciente primero\n",
    "-- Limita a 10 resultados\n",
    "\"\"\"\n",
    "\n",
    "# Descomenta cuando tengas tu consulta:\n",
    "# resultado_1a = pd.read_sql_query(consulta_1a, conn)\n",
    "# print(resultado_1a)"
   ]
  },
  {
   "cell_type": "code",
   "execution_count": null,
   "id": "3a7d0d2d",
   "metadata": {},
   "outputs": [],
   "source": [
    "# SOLUCIÓN EJERCICIO 1A (CORREGIDA):\n",
    "consulta_1a_solucion = \"\"\"\n",
    "SELECT \n",
    "    cliente_id,\n",
    "    CONCAT(nombres, ' ', apellidos) as nombre_completo,\n",
    "    segmento_cliente,\n",
    "    fecha_vinculacion\n",
    "FROM clientes \n",
    "WHERE estado = 'ACTIVO'\n",
    "ORDER BY fecha_vinculacion DESC\n",
    "LIMIT 10;\n",
    "\"\"\"\n",
    "\n",
    "resultado_1a = pd.read_sql_query(consulta_1a_solucion, conn)\n",
    "print(\"✅ Últimos 10 clientes vinculados:\")\n",
    "print(resultado_1a)\n",
    "\n",
    "print(\"\\n💡 Error corregido:\")\n",
    "print(\"✓ Usamos CONCAT(nombres, ' ', apellidos) en lugar de nombre_completo\")\n",
    "print(\"✓ La tabla tiene columnas separadas: 'nombres' y 'apellidos'\")"
   ]
  },
  {
   "cell_type": "markdown",
   "id": "68d55cad",
   "metadata": {},
   "source": [
    "## 💰 Ejercicio 2: Análisis de Cuentas y Saldos\n",
    "\n",
    "**Objetivo:** Practicar agregaciones (SUM, AVG, COUNT)"
   ]
  },
  {
   "cell_type": "code",
   "execution_count": null,
   "id": "e32fcc14",
   "metadata": {},
   "outputs": [],
   "source": [
    "# EJERCICIO 2A: Resumen por tipo de cuenta\n",
    "# TODO: Crea una consulta que muestre:\n",
    "# - tipo_cuenta\n",
    "# - cantidad de cuentas\n",
    "# - saldo total\n",
    "# - saldo promedio\n",
    "# Agrupa por tipo_cuenta y ordena por saldo total descendente\n",
    "\n",
    "consulta_2a = \"\"\"\n",
    "-- Tu consulta aquí:\n",
    "\n",
    "\"\"\"\n",
    "\n",
    "# Descomenta cuando tengas tu consulta:\n",
    "# resultado_2a = pd.read_sql_query(consulta_2a, conn)\n",
    "# print(resultado_2a)"
   ]
  },
  {
   "cell_type": "code",
   "execution_count": null,
   "id": "61e448c2",
   "metadata": {},
   "outputs": [],
   "source": [
    "# SOLUCIÓN EJERCICIO 2A:\n",
    "consulta_2a_solucion = \"\"\"\n",
    "SELECT \n",
    "    tipo_cuenta,\n",
    "    COUNT(*) as cantidad_cuentas,\n",
    "    SUM(saldo_actual) as saldo_total,\n",
    "    AVG(saldo_actual) as saldo_promedio\n",
    "FROM cuentas \n",
    "WHERE estado = 'ACTIVA'\n",
    "GROUP BY tipo_cuenta\n",
    "ORDER BY saldo_total DESC;\n",
    "\"\"\"\n",
    "\n",
    "resultado_2a = pd.read_sql_query(consulta_2a_solucion, conn)\n",
    "print(\"✅ Resumen por tipo de cuenta:\")\n",
    "print(resultado_2a)"
   ]
  },
  {
   "cell_type": "markdown",
   "id": "56e686a4",
   "metadata": {},
   "source": [
    "## 🔄 Ejercicio 3: Análisis de Transacciones\n",
    "\n",
    "**Objetivo:** Practicar CASE WHEN, filtros de fecha"
   ]
  },
  {
   "cell_type": "code",
   "execution_count": null,
   "id": "8e6010bb",
   "metadata": {},
   "outputs": [],
   "source": [
    "# EJERCICIO 3A: Transacciones por tipo en el último mes\n",
    "# TODO: Crear consulta que muestre:\n",
    "# - tipo_transaccion\n",
    "# - cantidad de transacciones\n",
    "# - total ingresos (montos positivos)\n",
    "# - total egresos (montos negativos, convertir a positivo)\n",
    "# Solo transacciones del último mes\n",
    "\n",
    "consulta_3a = \"\"\"\n",
    "-- Tu consulta aquí:\n",
    "\n",
    "\"\"\"\n",
    "\n",
    "# Descomenta cuando tengas tu consulta:\n",
    "# resultado_3a = pd.read_sql_query(consulta_3a, conn)\n",
    "# print(resultado_3a)"
   ]
  },
  {
   "cell_type": "code",
   "execution_count": null,
   "id": "a01c4e45",
   "metadata": {},
   "outputs": [],
   "source": [
    "# SOLUCIÓN EJERCICIO 3A:\n",
    "consulta_3a_solucion = \"\"\"\n",
    "SELECT \n",
    "    tipo_transaccion,\n",
    "    COUNT(*) as cantidad_transacciones,\n",
    "    SUM(CASE WHEN monto > 0 THEN monto ELSE 0 END) as total_ingresos,\n",
    "    SUM(CASE WHEN monto < 0 THEN ABS(monto) ELSE 0 END) as total_egresos\n",
    "FROM transacciones \n",
    "WHERE fecha_transaccion >= date('now', '-30 days')\n",
    "GROUP BY tipo_transaccion\n",
    "ORDER BY cantidad_transacciones DESC;\n",
    "\"\"\"\n",
    "\n",
    "resultado_3a = pd.read_sql_query(consulta_3a_solucion, conn)\n",
    "print(\"✅ Transacciones por tipo (último mes):\")\n",
    "print(resultado_3a)"
   ]
  },
  {
   "cell_type": "markdown",
   "id": "5a279ba8",
   "metadata": {},
   "source": [
    "## 🎯 Área de Práctica Libre\n",
    "\n",
    "**Aquí puedes escribir y probar tus consultas. Si tienes errores, los revisamos juntos.**"
   ]
  },
  {
   "cell_type": "code",
   "execution_count": null,
   "id": "f1dc8dbe",
   "metadata": {},
   "outputs": [],
   "source": [
    "# 🧪 ÁREA DE PRUEBAS - Escribe tus consultas aquí\n",
    "\n",
    "# Ejemplo: Ver estructura de una tabla\n",
    "estructura_clientes = pd.read_sql_query(\"PRAGMA table_info(clientes)\", conn)\n",
    "print(\"📋 Estructura de la tabla clientes:\")\n",
    "print(estructura_clientes[['name', 'type']].to_string(index=False))"
   ]
  },
  {
   "cell_type": "code",
   "execution_count": null,
   "id": "8a93a553",
   "metadata": {},
   "outputs": [],
   "source": [
    "# 🔧 TU CONSULTA AQUÍ:\n",
    "# Escribe cualquier consulta que quieras probar\n",
    "\n",
    "mi_consulta = \"\"\"\n",
    "-- Escribe tu consulta aquí\n",
    "SELECT 'Hola SQL Bancario!' as mensaje;\n",
    "\"\"\"\n",
    "\n",
    "try:\n",
    "    resultado = pd.read_sql_query(mi_consulta, conn)\n",
    "    print(\"✅ Consulta ejecutada correctamente:\")\n",
    "    print(resultado)\n",
    "except Exception as e:\n",
    "    print(f\"❌ Error en la consulta: {e}\")\n",
    "    print(\"💡 Revisemos el error juntos\")\n",
    "\n",
    "# 🏙️ PROBLEMA 2: Ranking de Ciudades por Ingresos\n",
    "# OBJETIVO: Ranking de ciudades por promedio de ingresos anuales\n",
    "\n",
    "# Instrucciones detalladas:\n",
    "# 1. Agrupa por ciudad\n",
    "# 2. Calcula el promedio de ingresos_anuales por ciudad  \n",
    "# 3. Cuenta cuántos clientes hay por ciudad\n",
    "# 4. Ordena de mayor a menor promedio de ingresos\n",
    "# 5. Solo clientes activos\n",
    "\n",
    "mi_consulta = \"\"\"\n",
    "-- 🎯 Tu consulta para el Problema 2:\n",
    "-- Pistas: usa GROUP BY, AVG(), COUNT(), ORDER BY DESC\n",
    "-- Columnas a mostrar: ciudad, promedio_ingresos, cantidad_clientes\n",
    "\n",
    "SELECT \n",
    "    ciudad,\n",
    "    AVG(ingresos_anuales) as promedio_ingresos,\n",
    "    COUNT(*) as cantidad_clientes\n",
    "FROM clientes\n",
    "WHERE estado = 'ACTIVO'\n",
    "GROUP BY ciudad\n",
    "ORDER BY promedio_ingresos DESC;\n",
    "\"\"\"\n",
    "\n",
    "try:\n",
    "    resultado = pd.read_sql_query(mi_consulta, conn)\n",
    "    print(\"✅ Ranking de ciudades por ingresos:\")\n",
    "    print(resultado)\n",
    "except Exception as e:\n",
    "    print(f\"❌ Error en la consulta: {e}\")\n",
    "    print(\"💡 Pistas para corregir:\")\n",
    "    print(\"  - ¿Usaste GROUP BY ciudad?\")\n",
    "    print(\"  - ¿Agregaste AVG(ingresos_anuales)?\")\n",
    "    print(\"  - ¿Ordenaste con ORDER BY promedio DESC?\")"
   ]
  },
  {
   "cell_type": "markdown",
   "id": "1e935f71",
   "metadata": {},
   "source": [
    "## 🚀 Desafíos SQL Bancarios\n",
    "\n",
    "**Cuando estés listo, intenta estos desafíos más complejos:**"
   ]
  },
  {
   "cell_type": "code",
   "execution_count": null,
   "id": "4a197392",
   "metadata": {},
   "outputs": [],
   "source": [
    "# DESAFÍO 1: Clientes con más de una cuenta\n",
    "# TODO: Encuentra clientes que tengan más de una cuenta activa\n",
    "# Muestra: cliente_id, nombre_completo, cantidad_cuentas, saldo_total\n",
    "\n",
    "# Tu consulta aquí:"
   ]
  },
  {
   "cell_type": "code",
   "execution_count": null,
   "id": "059dc536",
   "metadata": {},
   "outputs": [],
   "source": [
    "# DESAFÍO 2: TOP 5 clientes con más movimientos\n",
    "# TODO: Encuentra los 5 clientes con más transacciones en el último mes\n",
    "# Usa JOINs entre clientes, cuentas y transacciones\n",
    "\n",
    "# Tu consulta aquí:"
   ]
  },
  {
   "cell_type": "markdown",
   "id": "97d49b66",
   "metadata": {},
   "source": [
    "## 💡 Tips SQL para Banca\n",
    "\n",
    "### ✅ Buenas Prácticas:\n",
    "1. **Siempre filtra por estado activo** cuando trabajas con clientes/cuentas\n",
    "2. **Usa CASE WHEN** para clasificar montos (positivos/negativos)\n",
    "3. **Maneja fechas cuidadosamente** - usa funciones como `date('now', '-30 days')`\n",
    "4. **Agrega límites** a tus consultas para evitar resultados masivos\n",
    "5. **Usa alias descriptivos** para las columnas calculadas\n",
    "\n",
    "### ⚠️ Errores Comunes:\n",
    "- Olvidar el `GROUP BY` cuando usas agregaciones\n",
    "- No filtrar registros inactivos\n",
    "- Confundir INNER JOIN con LEFT JOIN\n",
    "- No manejar valores NULL correctamente"
   ]
  },
  {
   "cell_type": "code",
   "execution_count": null,
   "id": "abf2be5b",
   "metadata": {},
   "outputs": [],
   "source": [
    "# Cerrar conexión\n",
    "conn.close()\n",
    "print(\"🔌 Conexión cerrada\")"
   ]
  },
  {
   "cell_type": "code",
   "execution_count": null,
   "id": "b5144e12",
   "metadata": {},
   "outputs": [],
   "source": [
    "# 🎯 CELDA SIMPLE - SOLO PARA TI\n",
    "# Esta es la ÚNICA celda que necesitas ejecutar ahora\n",
    "\n",
    "import sqlite3\n",
    "import pandas as pd\n",
    "\n",
    "# Conectar a la base de datos\n",
    "conn = sqlite3.connect('../data/banking_core.db')\n",
    "\n",
    "# Consulta simple: Ranking de ciudades por ingresos\n",
    "consulta = \"\"\"\n",
    "SELECT \n",
    "    ciudad,\n",
    "    AVG(ingresos_anuales) as promedio_ingresos,\n",
    "    COUNT(*) as cantidad_clientes\n",
    "FROM clientes\n",
    "WHERE estado = 'ACTIVO'\n",
    "GROUP BY ciudad\n",
    "ORDER BY promedio_ingresos DESC;\n",
    "\"\"\"\n",
    "\n",
    "# Ejecutar y mostrar resultados\n",
    "resultado = pd.read_sql_query(consulta, conn)\n",
    "print(\"🏙️ RANKING DE CIUDADES POR INGRESOS:\")\n",
    "print(\"=\"*50)\n",
    "print(resultado)\n",
    "\n",
    "conn.close()"
   ]
  }
 ],
 "metadata": {
  "kernelspec": {
   "display_name": "Python 3 (ipykernel)",
   "language": "python",
   "name": "python3"
  },
  "language_info": {
   "codemirror_mode": {
    "name": "ipython",
    "version": 3
   },
   "file_extension": ".py",
   "mimetype": "text/x-python",
   "name": "python",
   "nbconvert_exporter": "python",
   "pygments_lexer": "ipython3",
   "version": "3.13.3"
  }
 },
 "nbformat": 4,
 "nbformat_minor": 5
}
